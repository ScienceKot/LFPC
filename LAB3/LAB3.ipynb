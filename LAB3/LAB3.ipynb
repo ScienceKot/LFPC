{
 "cells": [
  {
   "cell_type": "code",
   "execution_count": 1,
   "metadata": {},
   "outputs": [],
   "source": [
    "# Importing all needed libraries.\n",
    "from string import ascii_uppercase\n",
    "from operator import and_\n",
    "from functools import reduce"
   ]
  },
  {
   "cell_type": "code",
   "execution_count": 7,
   "metadata": {},
   "outputs": [],
   "source": [
    "# Creatting the class Grammar.\n",
    "class Grammar:\n",
    "    def __init__(self, Vn, Vt, P, S):\n",
    "        ''' Setting up the Grammar '''\n",
    "        self.Vn = Vn\n",
    "        self.Vt = Vt\n",
    "        self.P = P\n",
    "        self.S = S\n",
    "        self.free_uppercase = [letter for letter in ascii_uppercase if letter not in self.Vn]\n",
    "    \n",
    "    def __add_S0(self):\n",
    "        ''' This function adds a starting state '''\n",
    "        add_S0 = False\n",
    "        for i in range(len(self.P)):\n",
    "            if self.P[i][0] == self.S:\n",
    "                add_S0 = True\n",
    "        if add_S0:\n",
    "            self.P.append(('S0', self.S))\n",
    "            self.S = 'S0'\n",
    "    \n",
    "    def __eliminate_terminals(self):\n",
    "        ''' This funtion eliminates the terminals '''\n",
    "        to_eliminate = set()\n",
    "        for production in self.P:\n",
    "            to_eliminate.update(set(production[1]).intersection(set(self.Vt)))\n",
    "        to_eliminate = list(to_eliminate)\n",
    "        for production in self.P:\n",
    "            if production[1] in self.Vt and production[1] in to_eliminate:\n",
    "                to_eliminate.remove(production[1])\n",
    "        for element in to_eliminate:\n",
    "            self.P.append((self.free_uppercase[0], element))\n",
    "            self.free_uppercase.pop(0)\n",
    "        back_mapping = dict()\n",
    "        for i in range(len(self.P)):\n",
    "            if self.P[i][1] in self.Vt:\n",
    "                back_mapping[self.P[i][1]] = self.P[i][0]\n",
    "        for i in range(len(self.P)):\n",
    "            for key in back_mapping:\n",
    "                if key in self.P[i][1] and len(self.P[i][1]) > 1:\n",
    "                    self.P[i][1] = self.P[i][1].replace(key, back_mapping[key])\n",
    "    \n",
    "    def __eliminate_more_then_2(self):\n",
    "        ''' This function eliminates elements with more than 2 symbols '''\n",
    "        while True:\n",
    "            with_2_symbols = []\n",
    "            with_more_2_symbols = []\n",
    "            for i in range(len(self.P)):\n",
    "                if len(self.P[i][1]) == 2:\n",
    "                    with_2_symbols.append(i)\n",
    "                elif len(self.P[i][1]) > 2:\n",
    "                    with_more_2_symbols.append(i)\n",
    "            if len(with_more_2_symbols) == 0:\n",
    "                break\n",
    "            for i in with_2_symbols:\n",
    "                for j in with_more_2_symbols:\n",
    "                    if self.P[i][1] in self.P[j][1] and i != j:\n",
    "                        self.P[j][1] = self.P[j][1].replace(self.P[i][1], self.P[i][0])\n",
    "            if len(with_more_2_symbols) != 0:\n",
    "                substrings = []\n",
    "                for i in with_more_2_symbols:\n",
    "                    substrings.append([])\n",
    "                    for j in range(len(self.P[i][1]) -1):\n",
    "                        substrings[-1].append(self.P[i][1][j:j+2])\n",
    "                substrings = [set(sub) for sub in substrings]\n",
    "                common_strings = list(reduce(and_, substrings))\n",
    "                for common_string in common_strings:\n",
    "                    self.P.append([self.free_uppercase[0], common_string])\n",
    "                    self.free_uppercase.pop(0)\n",
    "        return self.P\n",
    "    \n",
    "    def to_chomsky(self):\n",
    "        ''' Convertion to chomsky form '''\n",
    "        self.__add_S0()\n",
    "        self.P = [pair for pair in self.P if pair[1] != 'epsilon']\n",
    "        self.__eliminate_terminals()\n",
    "        self.__eliminate_more_then_2()\n",
    "        return self.P"
   ]
  },
  {
   "cell_type": "code",
   "execution_count": 8,
   "metadata": {},
   "outputs": [],
   "source": [
    "dictionary = [['S', 'AC'], ['S', 'bA'], ['S', 'B'], ['S', 'aA'], ['A', 'epsilon'],\n",
    "              ['A', 'aS'], ['A', 'ABab'], ['B', 'a'], ['B', 'bS'], ['C', 'abC'], \n",
    "              ['D', 'AB']]"
   ]
  },
  {
   "cell_type": "code",
   "execution_count": 9,
   "metadata": {},
   "outputs": [],
   "source": [
    "Vt = ['a', 'b']\n",
    "Vn = ['S', 'A', 'B', 'C', 'D']"
   ]
  },
  {
   "cell_type": "code",
   "execution_count": 10,
   "metadata": {},
   "outputs": [],
   "source": [
    "gr = Grammar(Vn, Vt, dictionary, 'S')"
   ]
  },
  {
   "cell_type": "code",
   "execution_count": 11,
   "metadata": {},
   "outputs": [
    {
     "data": {
      "text/plain": [
       "[['S', 'AC'],\n",
       " ['S', 'EA'],\n",
       " ['S', 'B'],\n",
       " ['S', 'BA'],\n",
       " ['A', 'BS'],\n",
       " ['A', 'DF'],\n",
       " ['B', 'a'],\n",
       " ['B', 'ES'],\n",
       " ['C', 'FC'],\n",
       " ['D', 'AB'],\n",
       " ('S0', 'S'),\n",
       " ('E', 'b'),\n",
       " ['F', 'BE']]"
      ]
     },
     "execution_count": 11,
     "metadata": {},
     "output_type": "execute_result"
    }
   ],
   "source": [
    "gr.to_chomsky()"
   ]
  },
  {
   "cell_type": "code",
   "execution_count": null,
   "metadata": {},
   "outputs": [],
   "source": []
  }
 ],
 "metadata": {
  "kernelspec": {
   "display_name": "Python 3",
   "language": "python",
   "name": "python3"
  },
  "language_info": {
   "codemirror_mode": {
    "name": "ipython",
    "version": 3
   },
   "file_extension": ".py",
   "mimetype": "text/x-python",
   "name": "python",
   "nbconvert_exporter": "python",
   "pygments_lexer": "ipython3",
   "version": "3.7.6"
  }
 },
 "nbformat": 4,
 "nbformat_minor": 4
}
