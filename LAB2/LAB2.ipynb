{
 "cells": [
  {
   "cell_type": "code",
   "execution_count": 2,
   "metadata": {},
   "outputs": [],
   "source": [
    "# Importing all needed libraries.\n",
    "import pandas as pd"
   ]
  },
  {
   "cell_type": "code",
   "execution_count": 6,
   "metadata": {},
   "outputs": [
    {
     "name": "stdout",
     "output_type": "stream",
     "text": [
      "q0 q1 q2 q3\n"
     ]
    }
   ],
   "source": [
    "# The processes of getting the input of from the users.\n",
    "# In this cell I'm getting all the states in NFA.\n",
    "states_list = input().split()"
   ]
  },
  {
   "cell_type": "code",
   "execution_count": 7,
   "metadata": {},
   "outputs": [],
   "source": [
    "# Taking a look at the states."
   ]
  },
  {
   "cell_type": "code",
   "execution_count": 8,
   "metadata": {},
   "outputs": [
    {
     "data": {
      "text/plain": [
       "['q0', 'q1', 'q2', 'q3']"
      ]
     },
     "execution_count": 8,
     "metadata": {},
     "output_type": "execute_result"
    }
   ],
   "source": [
    "states_list"
   ]
  },
  {
   "cell_type": "code",
   "execution_count": 9,
   "metadata": {},
   "outputs": [
    {
     "name": "stdout",
     "output_type": "stream",
     "text": [
      "a b c\n"
     ]
    }
   ],
   "source": [
    "# The process of getting the actions.\n",
    "actions_list = input().split()"
   ]
  },
  {
   "cell_type": "code",
   "execution_count": 10,
   "metadata": {},
   "outputs": [
    {
     "data": {
      "text/plain": [
       "['a', 'b', 'c']"
      ]
     },
     "execution_count": 10,
     "metadata": {},
     "output_type": "execute_result"
    }
   ],
   "source": [
    "actions_list"
   ]
  },
  {
   "cell_type": "code",
   "execution_count": 11,
   "metadata": {},
   "outputs": [
    {
     "name": "stdout",
     "output_type": "stream",
     "text": [
      "q3\n"
     ]
    }
   ],
   "source": [
    "# Getting the final states.\n",
    "F_state = input().split()[0]"
   ]
  },
  {
   "cell_type": "code",
   "execution_count": 18,
   "metadata": {},
   "outputs": [
    {
     "name": "stdout",
     "output_type": "stream",
     "text": [
      "sigma(q0, a):q0 q1\n",
      "sigma(q0, b):\n",
      "sigma(q0, c):\n",
      "sigma(q1, a):\n",
      "sigma(q1, b):q2\n",
      "sigma(q1, c):\n",
      "sigma(q2, a):q2\n",
      "sigma(q2, b):q3\n",
      "sigma(q2, c):q0\n",
      "sigma(q3, a):\n",
      "sigma(q3, b):\n",
      "sigma(q3, c):\n"
     ]
    }
   ],
   "source": [
    "# The process of construction the transitiuon function dictionary.\n",
    "transition_fun = dict()\n",
    "for state in states_list:\n",
    "    for action in actions_list:\n",
    "        new_states = input(f\"sigma({state}, {action}):\")\n",
    "        if new_states != '':\n",
    "            states = new_states.split()\n",
    "            if len(states) > 1:\n",
    "                transition_fun[tuple([state, action])] = states\n",
    "            else:\n",
    "                transition_fun[tuple([state, action])] = states[0]\n",
    "        else:\n",
    "            pass"
   ]
  },
  {
   "cell_type": "code",
   "execution_count": 78,
   "metadata": {},
   "outputs": [
    {
     "data": {
      "text/plain": [
       "{('q0', 'a'): ['q0', 'q1'],\n",
       " ('q1', 'b'): 'q2',\n",
       " ('q2', 'a'): 'q2',\n",
       " ('q2', 'b'): 'q3',\n",
       " ('q2', 'c'): 'q0'}"
      ]
     },
     "execution_count": 78,
     "metadata": {},
     "output_type": "execute_result"
    }
   ],
   "source": [
    "transition_fun"
   ]
  },
  {
   "cell_type": "code",
   "execution_count": 110,
   "metadata": {},
   "outputs": [],
   "source": [
    "# Converting the NFA to DFA.\n",
    "DFA_states = states_list.copy()\n",
    "for state in states_list:\n",
    "    for action in actions_list:\n",
    "        if (state, action) in transition_fun and type(transition_fun[(state, action)]) is list:\n",
    "            DFA_states.append(transition_fun[(state, action)])\n",
    "DFA_transition = transition_fun.copy()\n",
    "for i in range(len(DFA_states)):\n",
    "    if type(DFA_states[i]) is list:\n",
    "        for action in actions_list:\n",
    "            temp = set()\n",
    "            for st in DFA_states[i]:\n",
    "                if (st, action) in transition_fun:\n",
    "                    temp.update(\n",
    "                        set(transition_fun[(st, action)]) if type(transition_fun[(st, action)]) is list else set([transition_fun[(st, action)]])\n",
    "                    )\n",
    "            if temp != set():\n",
    "                DFA_transition[(' '.join(DFA_states[i]), action)] = temp\n",
    "        DFA_states[i] = ' '.join(DFA_states[i])"
   ]
  },
  {
   "cell_type": "code",
   "execution_count": 111,
   "metadata": {},
   "outputs": [
    {
     "data": {
      "text/plain": [
       "{('q0', 'a'): ['q0', 'q1'],\n",
       " ('q1', 'b'): 'q2',\n",
       " ('q2', 'a'): 'q2',\n",
       " ('q2', 'b'): 'q3',\n",
       " ('q2', 'c'): 'q0',\n",
       " ('q0 q1', 'a'): {'q0', 'q1'},\n",
       " ('q0 q1', 'b'): {'q2'}}"
      ]
     },
     "execution_count": 111,
     "metadata": {},
     "output_type": "execute_result"
    }
   ],
   "source": [
    "DFA_transition"
   ]
  },
  {
   "cell_type": "code",
   "execution_count": 112,
   "metadata": {},
   "outputs": [
    {
     "data": {
      "text/plain": [
       "['q0', 'q1', 'q2', 'q3', 'q0 q1']"
      ]
     },
     "execution_count": 112,
     "metadata": {},
     "output_type": "execute_result"
    }
   ],
   "source": [
    "DFA_states"
   ]
  },
  {
   "cell_type": "code",
   "execution_count": 115,
   "metadata": {},
   "outputs": [],
   "source": [
    "# Building the transtion table.\n",
    "transition_table = []\n",
    "for state in DFA_states:\n",
    "    transition_table.append([])\n",
    "    for action in actions_list:\n",
    "        if (state, action) in DFA_transition:\n",
    "            transition_table[-1].append(DFA_transition[(state, action)])"
   ]
  },
  {
   "cell_type": "code",
   "execution_count": 117,
   "metadata": {},
   "outputs": [],
   "source": [
    "# Creating the transition Data Frame.\n",
    "transition_df = pd.DataFrame(transition_table, columns=actions_list, index=DFA_states)"
   ]
  },
  {
   "cell_type": "code",
   "execution_count": 118,
   "metadata": {},
   "outputs": [
    {
     "data": {
      "text/html": [
       "<div>\n",
       "<style scoped>\n",
       "    .dataframe tbody tr th:only-of-type {\n",
       "        vertical-align: middle;\n",
       "    }\n",
       "\n",
       "    .dataframe tbody tr th {\n",
       "        vertical-align: top;\n",
       "    }\n",
       "\n",
       "    .dataframe thead th {\n",
       "        text-align: right;\n",
       "    }\n",
       "</style>\n",
       "<table border=\"1\" class=\"dataframe\">\n",
       "  <thead>\n",
       "    <tr style=\"text-align: right;\">\n",
       "      <th></th>\n",
       "      <th>a</th>\n",
       "      <th>b</th>\n",
       "      <th>c</th>\n",
       "    </tr>\n",
       "  </thead>\n",
       "  <tbody>\n",
       "    <tr>\n",
       "      <th>q0</th>\n",
       "      <td>[q0, q1]</td>\n",
       "      <td>None</td>\n",
       "      <td>None</td>\n",
       "    </tr>\n",
       "    <tr>\n",
       "      <th>q1</th>\n",
       "      <td>q2</td>\n",
       "      <td>None</td>\n",
       "      <td>None</td>\n",
       "    </tr>\n",
       "    <tr>\n",
       "      <th>q2</th>\n",
       "      <td>q2</td>\n",
       "      <td>q3</td>\n",
       "      <td>q0</td>\n",
       "    </tr>\n",
       "    <tr>\n",
       "      <th>q3</th>\n",
       "      <td>None</td>\n",
       "      <td>None</td>\n",
       "      <td>None</td>\n",
       "    </tr>\n",
       "    <tr>\n",
       "      <th>q0 q1</th>\n",
       "      <td>{q1, q0}</td>\n",
       "      <td>{q2}</td>\n",
       "      <td>None</td>\n",
       "    </tr>\n",
       "  </tbody>\n",
       "</table>\n",
       "</div>"
      ],
      "text/plain": [
       "              a     b     c\n",
       "q0     [q0, q1]  None  None\n",
       "q1           q2  None  None\n",
       "q2           q2    q3    q0\n",
       "q3         None  None  None\n",
       "q0 q1  {q1, q0}  {q2}  None"
      ]
     },
     "execution_count": 118,
     "metadata": {},
     "output_type": "execute_result"
    }
   ],
   "source": [
    "# Showing the transition data frame.\n",
    "transition_df"
   ]
  },
  {
   "cell_type": "code",
   "execution_count": null,
   "metadata": {},
   "outputs": [],
   "source": []
  }
 ],
 "metadata": {
  "kernelspec": {
   "display_name": "Python 3",
   "language": "python",
   "name": "python3"
  },
  "language_info": {
   "codemirror_mode": {
    "name": "ipython",
    "version": 3
   },
   "file_extension": ".py",
   "mimetype": "text/x-python",
   "name": "python",
   "nbconvert_exporter": "python",
   "pygments_lexer": "ipython3",
   "version": "3.7.6"
  }
 },
 "nbformat": 4,
 "nbformat_minor": 4
}
